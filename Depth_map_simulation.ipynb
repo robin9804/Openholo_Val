{
  "nbformat": 4,
  "nbformat_minor": 0,
  "metadata": {
    "colab": {
      "name": "Depth map simulation.ipynb",
      "provenance": [],
      "authorship_tag": "ABX9TyNd/673lzRxru1B3fEo6gFW",
      "include_colab_link": true
    },
    "kernelspec": {
      "name": "python3",
      "display_name": "Python 3"
    }
  },
  "cells": [
    {
      "cell_type": "markdown",
      "metadata": {
        "id": "view-in-github",
        "colab_type": "text"
      },
      "source": [
        "<a href=\"https://colab.research.google.com/github/robin9804/Openholo_Val/blob/master/Depth_map_simulation.ipynb\" target=\"_parent\"><img src=\"https://colab.research.google.com/assets/colab-badge.svg\" alt=\"Open In Colab\"/></a>"
      ]
    },
    {
      "cell_type": "code",
      "metadata": {
        "id": "1la99RBVy8tg",
        "colab_type": "code",
        "colab": {}
      },
      "source": [
        "import numpy as np\n",
        "import matplotlib.pyplot as plt\n",
        "import tensorflow as tf"
      ],
      "execution_count": 1,
      "outputs": []
    },
    {
      "cell_type": "markdown",
      "metadata": {
        "id": "9hMw7-tizM5v",
        "colab_type": "text"
      },
      "source": [
        "# Depthmap 기반 홀로그램 생성\n",
        "\n",
        "fresnel integral 기반 back propagation"
      ]
    },
    {
      "cell_type": "code",
      "metadata": {
        "id": "VSLWrh1czMR9",
        "colab_type": "code",
        "colab": {}
      },
      "source": [
        "# parameters\n",
        "mm = 10e-3\n",
        "um = mm*mm\n",
        "nm = um*mm\n",
        "wvl_R = 639 * nm  # Red\n",
        "wvl_G = 525 * nm  # Green\n",
        "wvl_B = 463 * nm  # Blue\n",
        "\n",
        "def delta(wvl):\n",
        "    return wvl * 10  # sampling period\n",
        "\n",
        "def k0(wvl):\n",
        "    return (np.pi * 2) / wvl  # wave number\n",
        "\n",
        "pp = 3.45 * um  # pixel to pixel parameter\n",
        "z_scale = 0.3  # depth range to real scale\n",
        "\n",
        "# resolution setting\n",
        "width = 1920 \n",
        "height = 1080"
      ],
      "execution_count": null,
      "outputs": []
    },
    {
      "cell_type": "markdown",
      "metadata": {
        "id": "V_5g9cDczWZT",
        "colab_type": "text"
      },
      "source": [
        "# Depthmap file read\n",
        "\n",
        "depth map bmp file을 읽어오는 과정"
      ]
    },
    {
      "cell_type": "code",
      "metadata": {
        "id": "XoibebNozWAB",
        "colab_type": "code",
        "colab": {}
      },
      "source": [
        "depthfile = 'file path'\n",
        "rgbfile = 'file path'\n",
        "with open(depthfile) as f:\n",
        "    depthmap = np.array(f)\n",
        "\n",
        "with open(rgbfile) as f:\n",
        "    rgbmap = np.array(f)\n",
        "\n",
        "alphamap = np.zeros((width, height))\n",
        "for i in range(width):\n",
        "    for j in range(height):\n",
        "        if depthmap[i,j] > 0:\n",
        "            alphamap[i,j] = 1"
      ],
      "execution_count": null,
      "outputs": []
    },
    {
      "cell_type": "markdown",
      "metadata": {
        "id": "nitwGM5RVO8f",
        "colab_type": "text"
      },
      "source": [
        "# Back propagation 을 사용하여 hologram 취득\n"
      ]
    },
    {
      "cell_type": "code",
      "metadata": {
        "id": "CRmj_-ZbVOlV",
        "colab_type": "code",
        "colab": {}
      },
      "source": [
        "def h_Fresnel(x1, y1, z1, x2, y2, z2, wvl):\n",
        "    \"\"\"\n",
        "    Fresnel integral inpulse response\n",
        "    \"\"\"\n",
        "    z = abs(z2 - z1)\n",
        "    x = x1 - x2\n",
        "    y = y1 - y2\n",
        "    a = np.exp(1j* k0(wvl) * z)\n",
        "    h = a * np.exp(1j*(k0(wvl)/(2*z))*(x**2 + y**2))\n",
        "    return h\n",
        "\n",
        "def gm(n, wvl):\n",
        "    \"\"\"\n",
        "    n : order\n",
        "    x, y: coordinate\n",
        "    \"\"\"\n",
        "    g1 = np.zeros((height, width))\n",
        "    for i in range(width):\n",
        "        for j in range(height):\n",
        "            if depthmap[i,j] == n:\n",
        "                x = i - width/2\n",
        "                y = j - height/2\n",
        "                g1[i,j] = rgbmap[i,j] * np.exp(1j*k0(wvl) * alphamap[i,j] - g(m-1))"
      ],
      "execution_count": null,
      "outputs": []
    },
    {
      "cell_type": "code",
      "metadata": {
        "id": "aKvqHQouex8O",
        "colab_type": "code",
        "colab": {}
      },
      "source": [
        "# propagation with no occlusion\n",
        "def Tm(n, z, wvl):\n",
        "    if n = 1:\n",
        "        for i in zip(depthmap):\n",
        "            if i == 1:\n",
        "                return np.exp(1j*k0(wvl)*alphamap())"
      ],
      "execution_count": null,
      "outputs": []
    },
    {
      "cell_type": "code",
      "metadata": {
        "id": "dKlr6ILjzLmj",
        "colab_type": "code",
        "colab": {}
      },
      "source": [
        "M = 255 # depth level\n",
        "m = 1\n",
        "while m == (M-1):\n",
        "    m += 1\n",
        "    "
      ],
      "execution_count": null,
      "outputs": []
    }
  ]
}