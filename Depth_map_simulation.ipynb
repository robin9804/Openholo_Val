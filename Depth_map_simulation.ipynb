{
  "nbformat": 4,
  "nbformat_minor": 0,
  "metadata": {
    "colab": {
      "name": "Depth map simulation.ipynb",
      "provenance": [],
      "collapsed_sections": [],
      "authorship_tag": "ABX9TyPcuXrz3Ct4Aoi87fBYLFSE",
      "include_colab_link": true
    },
    "kernelspec": {
      "name": "python3",
      "display_name": "Python 3"
    }
  },
  "cells": [
    {
      "cell_type": "markdown",
      "metadata": {
        "id": "view-in-github",
        "colab_type": "text"
      },
      "source": [
        "<a href=\"https://colab.research.google.com/github/robin9804/Openholo_Val/blob/master/Depth_map_simulation.ipynb\" target=\"_parent\"><img src=\"https://colab.research.google.com/assets/colab-badge.svg\" alt=\"Open In Colab\"/></a>"
      ]
    },
    {
      "cell_type": "code",
      "metadata": {
        "id": "1la99RBVy8tg",
        "colab_type": "code",
        "colab": {}
      },
      "source": [
        "import numpy as np\n",
        "import matplotlib.pyplot as plt\n",
        "from PIL import Image"
      ],
      "execution_count": null,
      "outputs": []
    },
    {
      "cell_type": "markdown",
      "metadata": {
        "id": "9hMw7-tizM5v",
        "colab_type": "text"
      },
      "source": [
        "# Depthmap 기반 홀로그램 생성\n",
        "\n",
        "fresnel integral 기반 back propagation"
      ]
    },
    {
      "cell_type": "code",
      "metadata": {
        "id": "VSLWrh1czMR9",
        "colab_type": "code",
        "colab": {}
      },
      "source": [
        "# parameters\n",
        "mm = 10e-3\n",
        "um = mm*mm\n",
        "nm = um*mm\n",
        "wvl_R = 639 * nm  # Red\n",
        "wvl_G = 525 * nm  # Green\n",
        "wvl_B = 463 * nm  # Blue\n",
        "\n",
        "def delta(wvl):\n",
        "    return wvl * 10  # sampling period\n",
        "\n",
        "def k0(wvl):\n",
        "    return (np.pi * 2) / wvl  # wave number\n",
        "\n",
        "pp = 3.45 * um  # pixel to pixel parameter\n",
        "z_scale = 0.3  # depth range to real scale\n",
        "\n",
        "# resolution setting\n",
        "width = 1920 \n",
        "height = 1080"
      ],
      "execution_count": null,
      "outputs": []
    },
    {
      "cell_type": "markdown",
      "metadata": {
        "id": "V_5g9cDczWZT",
        "colab_type": "text"
      },
      "source": [
        "# Depthmap file read\n",
        "\n",
        "depth map bmp file을 읽어오면서 깊이 정보를 가져온다."
      ]
    },
    {
      "cell_type": "code",
      "metadata": {
        "id": "XoibebNozWAB",
        "colab_type": "code",
        "colab": {}
      },
      "source": [
        "# depth map 조건\n",
        "field_len = 1000e-3\n",
        "near_depth = 800e-3\n",
        "far_depth = 1200e-3\n",
        "\n",
        "# depth quantization (깊이 계조)\n",
        "DQ = 256  # 0 to 255\n",
        "\n",
        "# unit depth \n",
        "UD = (far_depth - near_depth) / 256\n",
        "\n",
        "# file path\n",
        "depthfile = 'file path'\n",
        "rgbfile = 'file path'\n",
        "\n",
        "depthmap = Image.open(depthfile)\n",
        "depthmap = np.array(depthmap)\n",
        "rgbmap = Image.open(rgbfile)\n",
        "rgbmap = np.array(rgbmap)\n"
      ],
      "execution_count": null,
      "outputs": []
    },
    {
      "cell_type": "markdown",
      "metadata": {
        "id": "nitwGM5RVO8f",
        "colab_type": "text"
      },
      "source": [
        "# Back propagation 을 사용하여 hologram 취득\n"
      ]
    },
    {
      "cell_type": "code",
      "metadata": {
        "id": "CRmj_-ZbVOlV",
        "colab_type": "code",
        "colab": {}
      },
      "source": [
        "# alpha map extract\n",
        "def alphamap(n):\n",
        "    \"\"\"\n",
        "    extract alpha map\n",
        "    \"\"\"\n",
        "    amap = np.zeros((width, height))\n",
        "    for i in range(width):\n",
        "        for j in range(height):\n",
        "            if depthmap[i,j] == n:\n",
        "                amap[i,j] = 1\n",
        "    return amap\n",
        "\n",
        "def h_Fresnel(x1, y1, z1, x2, y2, z2, wvl):\n",
        "    \"\"\"\n",
        "    Fresnel integral inpulse response\n",
        "    \"\"\"\n",
        "    z = abs(z2 - z1)\n",
        "    x = x1 - x2\n",
        "    y = y1 - y2\n",
        "    a = np.exp(1j* k0(wvl) * z)\n",
        "    h = a * np.exp(1j*(k0(wvl)/(2*z))*(x**2 + y**2))\n",
        "    return h\n",
        "\n",
        "def T(n, wvl):\n",
        "    \"\"\"\n",
        "    plaen to plane propagation operator\n",
        "    n : order\n",
        "    \"\"\"\n",
        "    z = UD * n\n",
        "    g1 = np.zeros((height, width))\n",
        "    for i in range(width):\n",
        "        for j in range(height):\n",
        "            if depthmap[j,i] == n:\n",
        "                g1[j,i] = rgbmap[j,i,1] * np.exp(1j*k0(wvl) * z)\n",
        "    return g1\n",
        "\n",
        "def depth_prop(wvl):\n",
        "    i = 0\n",
        "    plane = np.zeros((height, width))\n",
        "    while i < DQ:\n",
        "        if i == 0:\n",
        "            plane = T(0, wvl)\n",
        "        else:\n",
        "            plane = T(i, wvl) * alphamap(i) + plane * (1 - alphamap(i))\n",
        "        print(i,\" th plane done\")\n",
        "        i +=1\n",
        "    return plane"
      ],
      "execution_count": null,
      "outputs": []
    },
    {
      "cell_type": "markdown",
      "metadata": {
        "id": "XpQFRWMo_wWx",
        "colab_type": "text"
      },
      "source": [
        "# Back propagation을 통한 depth map hologram 계산"
      ]
    },
    {
      "cell_type": "code",
      "metadata": {
        "id": "aKvqHQouex8O",
        "colab_type": "code",
        "colab": {}
      },
      "source": [
        "def depth_prop(wvl):\n",
        "    i = 0\n",
        "    plane = np.zeros((height, width))\n",
        "    while i < DQ:\n",
        "        if i == 0:\n",
        "            plane = T(0, wvl)\n",
        "        else:\n",
        "            plane = T(i, wvl) * alphamap(i) + plane * (1 - alphamap(i))\n",
        "        print(i,\" th plane done\")\n",
        "        i +=1\n",
        "    return plane"
      ],
      "execution_count": null,
      "outputs": []
    },
    {
      "cell_type": "markdown",
      "metadata": {
        "id": "Q30OcKJDL9dI",
        "colab_type": "text"
      },
      "source": [
        "# 병렬 계산을 통한 depth map hologram 생성"
      ]
    },
    {
      "cell_type": "code",
      "metadata": {
        "id": "dKlr6ILjzLmj",
        "colab_type": "code",
        "colab": {}
      },
      "source": [
        "def depth_parallel(wvl):\n",
        "    h = np.zeros((height, width))\n",
        "    for n in range(DQ):\n",
        "        h = h + T(n, wvl)\n",
        "    return h\n"
      ],
      "execution_count": null,
      "outputs": []
    }
  ]
}