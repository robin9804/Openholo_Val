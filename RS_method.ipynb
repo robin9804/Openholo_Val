{
  "nbformat": 4,
  "nbformat_minor": 0,
  "metadata": {
    "colab": {
      "name": "RS method.ipynb",
      "provenance": [],
      "collapsed_sections": [],
      "toc_visible": true,
      "mount_file_id": "1oRlkSLoxTDe1zxFdIyopYPX86svcDs5m",
      "authorship_tag": "ABX9TyMYCRdc+uTK+BZT3ssQzy38",
      "include_colab_link": true
    },
    "kernelspec": {
      "name": "python3",
      "display_name": "Python 3"
    }
  },
  "cells": [
    {
      "cell_type": "markdown",
      "metadata": {
        "id": "view-in-github",
        "colab_type": "text"
      },
      "source": [
        "<a href=\"https://colab.research.google.com/github/robin9804/Openholo_Val/blob/master/RS_method.ipynb\" target=\"_parent\"><img src=\"https://colab.research.google.com/assets/colab-badge.svg\" alt=\"Open In Colab\"/></a>"
      ]
    },
    {
      "cell_type": "code",
      "metadata": {
        "id": "D1zBqCd43ZXi",
        "colab_type": "code",
        "colab": {
          "base_uri": "https://localhost:8080/",
          "height": 52
        },
        "outputId": "aea423be-23b9-44b7-96f6-f0c082e0ff71"
      },
      "source": [
        "import numpy as np\n",
        "import matplotlib.pyplot as plt\n",
        "import pandas as pd\n",
        "\n",
        "!pip install plyfile\n",
        "import plyfile"
      ],
      "execution_count": 36,
      "outputs": [
        {
          "output_type": "stream",
          "text": [
            "Requirement already satisfied: plyfile in /usr/local/lib/python3.6/dist-packages (0.7.2)\n",
            "Requirement already satisfied: numpy>=1.8 in /usr/local/lib/python3.6/dist-packages (from plyfile) (1.18.5)\n"
          ],
          "name": "stdout"
        }
      ]
    },
    {
      "cell_type": "markdown",
      "metadata": {
        "id": "UTidTfn8zfJx",
        "colab_type": "text"
      },
      "source": [
        "# RS method 검증 과정\n",
        "\n",
        "1) point cloud reading\n",
        "\n",
        "2) RS propagation -> complex image 추출\n",
        "\n",
        "3) Encoding - openholo 사용 가능\n"
      ]
    },
    {
      "cell_type": "code",
      "metadata": {
        "id": "I9ma-67_3gXF",
        "colab_type": "code",
        "colab": {}
      },
      "source": [
        "# parameters\n",
        "mm = 10e-3\n",
        "um = mm*mm\n",
        "nm = um*mm\n",
        "wvl_R = 639 * nm  # Red\n",
        "wvl_G = 525 * nm  # Green\n",
        "wvl_B = 463 * nm  # Blue\n",
        "\n",
        "def delta(wvl):\n",
        "    return wvl * 10  # sampling period\n",
        "\n",
        "def k0(wvl):\n",
        "    return (np.pi * 2) / wvl  # wave number\n",
        "\n",
        "pp = 3.45 * um  # pixel to pixel parameter\n",
        "\n",
        "# resolution setting\n",
        "width = 1080 \n",
        "height = 1080"
      ],
      "execution_count": 37,
      "outputs": []
    },
    {
      "cell_type": "markdown",
      "metadata": {
        "id": "Fk_Gon32-zev",
        "colab_type": "text"
      },
      "source": [
        "# PLY 파일 구성\n",
        "\n",
        "ply  \n",
        "format ascii 1.0  \n",
        "comment Point Cloud Data Format in OpenHolo Library v1.0  \n",
        "element color 1  \n",
        "property int channel  \n",
        "element vertex 7493  \n",
        "property float x  \n",
        "property float y  \n",
        "property float z  \n",
        "property uchar red  \n",
        "property uchar green  \n",
        "property uchar blue  \n",
        "property double phase  \n",
        "end_header\n",
        "\n",
        "\n",
        "1번 항목이 꼭지점(Vertex), 7493개 꼭지점. x, y, z, Red, Green, Blue, phase로 구성되어있음\n"
      ]
    },
    {
      "cell_type": "code",
      "metadata": {
        "id": "uyZk_puc33L-",
        "colab_type": "code",
        "colab": {}
      },
      "source": [
        "# read PLY file and convert to numpy array\n",
        "with open('drive/My Drive/Colab Notebooks/data/dice_100000.ply', 'rb') as f:\n",
        "    plydata = plyfile.PlyData.read(f)\n",
        "data = np.array(plydata.elements[1].data)"
      ],
      "execution_count": 38,
      "outputs": []
    },
    {
      "cell_type": "code",
      "metadata": {
        "id": "HpssdM54Bs5n",
        "colab_type": "code",
        "colab": {
          "base_uri": "https://localhost:8080/",
          "height": 34
        },
        "outputId": "c16279da-5fa1-4d75-9568-4ff68f94789b"
      },
      "source": [
        "# PLY data 검증\n",
        "#np.exp(1j*data['phase'][0])\n",
        "#plydata.elements[0]\n",
        "data['x'][1]"
      ],
      "execution_count": 39,
      "outputs": [
        {
          "output_type": "execute_result",
          "data": {
            "text/plain": [
              "0.10625"
            ]
          },
          "metadata": {
            "tags": []
          },
          "execution_count": 39
        }
      ]
    },
    {
      "cell_type": "markdown",
      "metadata": {
        "id": "eBawCXBmZC-1",
        "colab_type": "text"
      },
      "source": [
        "# R-S diffraction with Anti-alliasing\n",
        "\n",
        "x, y 범위를 x0 - abs(tx / sqrt(1-tx**2)) < x 로 가줘야 한다.\n",
        "\n",
        "결국 프레넬 회절 공식은 이러한 범위에 의해 zero padding된 형태로 남게 된다.\n"
      ]
    },
    {
      "cell_type": "code",
      "metadata": {
        "id": "gYtuCICA9-4g",
        "colab_type": "code",
        "colab": {}
      },
      "source": [
        "# define R-S method impulse response and Fresnel Integral method\n",
        "def h_RS(x1, y1, x2, y2, z, wvl):\n",
        "    \"\"\"\n",
        "    RS impulse response\n",
        "    \"\"\"\n",
        "    r = np.sqrt((x1-x2)**2 + (y1-y2)**2 + z**2)\n",
        "    h = (z / (1j * wvl)) * (np.exp(1j*k0(wvl)*r) / r **2)\n",
        "    return h\n",
        "\n",
        "def h_Fresnel(x, y, z, wvl):\n",
        "    \"\"\"\n",
        "    Fresnel integral inpulse response\n",
        "    \"\"\"\n",
        "    h = (np.exp(1j*k*z)/ 1j*wvl*z) * np.exp(1j*(k0(wvl)/(2*z))*(x**2 + y**2))\n",
        "    return h\n",
        "\n",
        "# tx, ty for anti alliasing \n",
        "def anti(wvl, z, p):\n",
        "    txy = wvl / (2 * p)\n",
        "    t = (txy / np.sqrt(1 - txy ** 2)) * z\n",
        "    return np.abs(t)\n",
        "\n",
        "def RS_kernel_conv(n, x2, y2, z2, wvl):\n",
        "    x1 = data['x'][n]\n",
        "    y1 = data['y'][n]\n",
        "    z1 = data['z'][n]\n",
        "    if wvl == wvl_R: \n",
        "        return data['red'][n]* h_RS(x1, y1,x2, y2, z1 - z2, wvl)\n",
        "    elif wvl == wvl_G:\n",
        "        return data['green'][n]* h_RS(x1, y1,x2, y2, z1 - z2, wvl)\n",
        "    elif wvl == wvl_B:\n",
        "        return data['blue'][n]* h_RS(x1, y1,x2, y2, z1 - z2, wvl)\n",
        "    else:\n",
        "        print(\"wrong number\")"
      ],
      "execution_count": 40,
      "outputs": []
    },
    {
      "cell_type": "markdown",
      "metadata": {
        "id": "s90gW9jtuTMl",
        "colab_type": "text"
      },
      "source": [
        "# RS method 를 사용한 hologram generation\n",
        "\n",
        "RS method를 사용하여 홀로그램을 생성한다."
      ]
    },
    {
      "cell_type": "code",
      "metadata": {
        "id": "Q5nzTcctCG7s",
        "colab_type": "code",
        "colab": {}
      },
      "source": [
        "# R-S method\n",
        "z1 = 0.5\n",
        "phase = data['phase'][0]  # 5.059415\n",
        "\n",
        "# 진입점\n",
        "def RS_hologen(z, wvl):\n",
        "    \"\"\"\n",
        "    hologram generation function\n",
        "    \"\"\"\n",
        "    RS_in = np.zeros((width,height))  # hologram plane 생성\n",
        "    for n in range(4, 5):\n",
        "        RS_cash = np.zeros((width,height))\n",
        "        for i in range(width):\n",
        "            x2 = ((i-width)/2)* 4 * um # pixel location\n",
        "            if data['x'][n] - anti(wvl, z, pp) < x2 < data['x'][n] +anti(wvl, z, pp):  # anti alliasing 조건\n",
        "                for j in range(height):\n",
        "                    y2 = ((j-height)/2) * 4 * um \n",
        "                    if data['y'][n] - anti(wvl, z, pp) < y2 < data['y'][n] +anti(wvl, z, pp):\n",
        "                        RS_cash[i, j] =  1# RS_kernel_conv(n,x2, y2, z, wvl)\n",
        "                    else:\n",
        "                        pass\n",
        "            else:\n",
        "                pass\n",
        "        RS_in = RS_in + RS_cash\n",
        "        print(n , \" th cash done\")\n",
        "    return RS_in"
      ],
      "execution_count": 70,
      "outputs": []
    },
    {
      "cell_type": "markdown",
      "metadata": {
        "id": "L_fKJpm0s-7Q",
        "colab_type": "text"
      },
      "source": [
        "# Reconstruction image with ASM\n",
        "\n",
        "angular spectrum methods를 사용하여 이미지를 다시 복원하는 과정"
      ]
    },
    {
      "cell_type": "code",
      "metadata": {
        "id": "l7mRo8DN9Qsa",
        "colab_type": "code",
        "colab": {}
      },
      "source": [
        "# Reconst image with ASM\n",
        "res = height / 2\n",
        "def asm_kernel(Reconst_z):\n",
        "    \"\"\"\n",
        "    Angular spectrum kernel to reconst picture\n",
        "    \"\"\"\n",
        "    kernal = np.zeros((height // 2, height // 2))\n",
        "    asm = -2j * np.pi * Reconst_z\n",
        "    for i in np.arange(height // 2):\n",
        "        for j in np.arange(height // 2):\n",
        "            c = (-pp * res / 2 + pp / 2) + i * pp\n",
        "            r = (-pp * res / 2 + pp / 2) + j * pp\n",
        "            squrt = wvl ** -2 - ((r / pp - 0.5) / pp / res) ** 2 - ((c / pp - 0.5) / pp / res) ** 2\n",
        "            kernal[[j], [i]] = np.exp(asm * np.sqrt(squrt))\n",
        "    return kernal\n",
        "\n",
        "def Reconst(z, ch):\n",
        "    \"\"\"\n",
        "    Reconstruct hologram at z mm\n",
        "    \"\"\"\n",
        "    p = asm_kernel(z)\n",
        "    A = np.fft.fftshift(np.fft.fft2(np.fft.fftshift(ch)))\n",
        "    img = p * A\n",
        "    img = np.fft.fftshift(np.fft.ifft2(np.fft.fftshift(img)))\n",
        "    img = img * np.conj(img)\n",
        "    img = img / np.max(img)\n",
        "    #img to uint8\n",
        "    return img"
      ],
      "execution_count": null,
      "outputs": []
    },
    {
      "cell_type": "code",
      "metadata": {
        "id": "-gOvxSgWl4RU",
        "colab_type": "code",
        "colab": {}
      },
      "source": [
        ""
      ],
      "execution_count": null,
      "outputs": []
    }
  ]
}