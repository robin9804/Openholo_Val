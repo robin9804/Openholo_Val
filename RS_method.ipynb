{
  "nbformat": 4,
  "nbformat_minor": 0,
  "metadata": {
    "colab": {
      "name": "RS method.ipynb",
      "provenance": [],
      "collapsed_sections": [],
      "toc_visible": true,
      "mount_file_id": "1oRlkSLoxTDe1zxFdIyopYPX86svcDs5m",
      "authorship_tag": "ABX9TyNIGVJjZAn/f53FBpEf7jhA",
      "include_colab_link": true
    },
    "kernelspec": {
      "name": "python3",
      "display_name": "Python 3"
    }
  },
  "cells": [
    {
      "cell_type": "markdown",
      "metadata": {
        "id": "view-in-github",
        "colab_type": "text"
      },
      "source": [
        "<a href=\"https://colab.research.google.com/github/robin9804/Openholo_Val/blob/master/RS_method.ipynb\" target=\"_parent\"><img src=\"https://colab.research.google.com/assets/colab-badge.svg\" alt=\"Open In Colab\"/></a>"
      ]
    },
    {
      "cell_type": "code",
      "metadata": {
        "id": "D1zBqCd43ZXi",
        "colab_type": "code",
        "colab": {
          "base_uri": "https://localhost:8080/",
          "height": 105
        },
        "outputId": "2ac4208f-5ca6-42fc-f582-be45c9b1ce7a"
      },
      "source": [
        "import numpy as np\n",
        "import matplotlib.pyplot as plt\n",
        "import pandas as pd\n",
        "\n",
        "!pip install plyfile\n",
        "import plyfile"
      ],
      "execution_count": 1,
      "outputs": [
        {
          "output_type": "stream",
          "text": [
            "Collecting plyfile\n",
            "  Downloading https://files.pythonhosted.org/packages/93/c8/cf47848cd4d661850e4a8e7f0fc4f7298515e06d0da7255ed08e5312d4aa/plyfile-0.7.2-py3-none-any.whl\n",
            "Requirement already satisfied: numpy>=1.8 in /usr/local/lib/python3.6/dist-packages (from plyfile) (1.18.5)\n",
            "Installing collected packages: plyfile\n",
            "Successfully installed plyfile-0.7.2\n"
          ],
          "name": "stdout"
        }
      ]
    },
    {
      "cell_type": "markdown",
      "metadata": {
        "id": "UTidTfn8zfJx",
        "colab_type": "text"
      },
      "source": [
        "# RS method 검증 과정\n",
        "\n",
        "1) point cloud reading\n",
        "\n",
        "2) RS propagation -> complex image 추출\n",
        "\n",
        "3) Encoding - openholo 사용 가능\n"
      ]
    },
    {
      "cell_type": "code",
      "metadata": {
        "id": "I9ma-67_3gXF",
        "colab_type": "code",
        "colab": {}
      },
      "source": [
        "# parameters\n",
        "mm = 10e-3\n",
        "um = mm*mm\n",
        "nm = um*mm\n",
        "wvl_R = 639 * nm  # Red\n",
        "wvl_G = 525 * nm  # Green\n",
        "wvl_B = 463 * nm  # Blue\n",
        "\n",
        "def delta(wvl):\n",
        "    return wvl * 10  # sampling period\n",
        "\n",
        "def k0(wvl):\n",
        "    return (np.pi * 2) / wvl  # wave number\n",
        "\n",
        "pp = 3.45 * um  # pixel to pixel parameter\n",
        "\n",
        "# resolution setting\n",
        "width = 1080 \n",
        "height = 1080"
      ],
      "execution_count": 7,
      "outputs": []
    },
    {
      "cell_type": "markdown",
      "metadata": {
        "id": "Fk_Gon32-zev",
        "colab_type": "text"
      },
      "source": [
        "# PLY 파일 구성\n",
        "\n",
        "ply  \n",
        "format ascii 1.0  \n",
        "comment Point Cloud Data Format in OpenHolo Library v1.0  \n",
        "element color 1  \n",
        "property int channel  \n",
        "element vertex 7493  \n",
        "property float x  \n",
        "property float y  \n",
        "property float z  \n",
        "property uchar red  \n",
        "property uchar green  \n",
        "property uchar blue  \n",
        "property double phase  \n",
        "end_header\n",
        "\n",
        "\n",
        "1번 항목이 꼭지점(Vertex), 7493개 꼭지점. x, y, z, Red, Green, Blue, phase로 구성되어있음\n"
      ]
    },
    {
      "cell_type": "code",
      "metadata": {
        "id": "uyZk_puc33L-",
        "colab_type": "code",
        "colab": {}
      },
      "source": [
        "# read PLY file and convert to numpy array\n",
        "with open('drive/My Drive/Colab Notebooks/data/dice_100000.ply', 'rb') as f:\n",
        "    plydata = plyfile.PlyData.read(f)\n",
        "data = np.array(plydata.elements[1].data)"
      ],
      "execution_count": 10,
      "outputs": []
    },
    {
      "cell_type": "code",
      "metadata": {
        "id": "HpssdM54Bs5n",
        "colab_type": "code",
        "colab": {
          "base_uri": "https://localhost:8080/",
          "height": 34
        },
        "outputId": "c159b8ee-7937-4ccd-c427-bbbd5a997aa4"
      },
      "source": [
        "# PLY data 검증\n",
        "#np.exp(1j*data['phase'][0])\n",
        "#plydata.elements[0]\n",
        "data['x'][1]"
      ],
      "execution_count": 11,
      "outputs": [
        {
          "output_type": "execute_result",
          "data": {
            "text/plain": [
              "0.10625"
            ]
          },
          "metadata": {
            "tags": []
          },
          "execution_count": 11
        }
      ]
    },
    {
      "cell_type": "markdown",
      "metadata": {
        "id": "eBawCXBmZC-1",
        "colab_type": "text"
      },
      "source": [
        "# R-S diffraction with Anti-alliasing\n",
        "\n",
        "x, y 범위를 x0 - abs(tx / sqrt(1-tx**2)) < x 로 가줘야 한다.\n",
        "\n",
        "결국 프레넬 회절 공식은 이러한 범위에 의해 zero padding된 형태로 남게 된다.\n"
      ]
    },
    {
      "cell_type": "code",
      "metadata": {
        "id": "gYtuCICA9-4g",
        "colab_type": "code",
        "colab": {}
      },
      "source": [
        "# define R-S method impulse response and Fresnel Integral method\n",
        "def h_RS(x1, y1, x2, y2, z, wvl):\n",
        "    \"\"\"\n",
        "    RS impulse response\n",
        "    \"\"\"\n",
        "    r = np.sqrt((x1-x2)**2 + (y1-y2)**2 + z**2)\n",
        "    h = (z / (1j * wvl)) * (np.exp(1j*k0(wvl)*r) / r **2)\n",
        "    return h\n",
        "\n",
        "def h_Fresnel(x, y, z, wvl):\n",
        "    \"\"\"\n",
        "    Fresnel integral inpulse response\n",
        "    \"\"\"\n",
        "    h = (np.exp(1j*k*z)/ 1j*wvl*z) * np.exp(1j*(k0(wvl)/(2*z))*(x**2 + y**2))\n",
        "    return h\n",
        "\n",
        "# tx, ty for anti alliasing \n",
        "def txy(wvl):\n",
        "    return wvl / (2 * pp)\n",
        "\n",
        "def anti(wvl, z):\n",
        "    t = (txy(wvl) / np.sqrt(1 - txy(wvl) ** 2)) * z\n",
        "    return np.abs(t)\n"
      ],
      "execution_count": 13,
      "outputs": []
    },
    {
      "cell_type": "code",
      "metadata": {
        "id": "Q5nzTcctCG7s",
        "colab_type": "code",
        "colab": {
          "base_uri": "https://localhost:8080/",
          "height": 357
        },
        "outputId": "80d53254-5a98-4f45-b6ab-75ff74d0eace"
      },
      "source": [
        "# R-S method\n",
        "z1 = 0.5\n",
        "phase = data['phase'][0]  # 5.059415\n",
        "\n",
        "def RS_kernel_conv(n, j, i, x2, y2, z1, wvl):\n",
        "    if wvl == wvl_R: \n",
        "        return data['red'][n]* h_RS(data['x'][n], data['y'][n],x2, y2, data['z'][n] - z1, wvl )\n",
        "    elif wvl == wvl_G:\n",
        "        return data['green'][n]* h_RS(data['x'][n], data['y'][n],x2, y2, data['z'][n] - z1, wvl )\n",
        "    elif wvl == wvl_B:\n",
        "        return data['blue'][n]* h_RS(data['x'][n], data['y'][n],x2, y2, data['z'][n] - z1, wvl )\n",
        "    else:\n",
        "        print(\"wrong number\")\n",
        "\n",
        "def RS_hologen(wvl, z):\n",
        "    \"\"\"\n",
        "    RS method 로 홀로그램 생성하는 함수\n",
        "    \"\"\"    \n",
        "    RS_in = np.zeros((width,height))\n",
        "    for n in range(3):\n",
        "        RS_cash = np.zeros((width,height))\n",
        "        for i in range(width):\n",
        "            x2 = ((i-width)/2) * pp\n",
        "            if data['x'][n] - anti(wvl, z) < x2 < data['x'][n] +anti(wvl, z):\n",
        "                for j in range(height):\n",
        "                    y2 = ((j-height)/2) * pp\n",
        "                    if data['y'][n] - anti(wvl, z) < y2 < data['y'][n] +anti(wvl, z):\n",
        "                        RS_cash[j, i] = RS_kernel_conv(n, j, i,x2, y2, z, wvl)\n",
        "                        #RS_cash[j, i] = data['red'][n]* h_RS(data['x'][n], data['y'][n],x2, y2, data['z'][n] - z1, wvl_R )\n",
        "                    else:\n",
        "                        pass\n",
        "            else:\n",
        "                pass\n",
        "        # crop을 계산해서 넣어주기\n",
        "        RS_in = RS_in + RS_cash\n",
        "        print(n , \" th cash done\")\n",
        "    return RS_in\n",
        "\n",
        "\n",
        "\n",
        "\n",
        "RS_mean = RS_hologen(wvl_R, 0.5)\n",
        "#RS_mean /= np.max(RS_mean)\n",
        "plt.imshow(RS_mean, cmap = 'gray')"
      ],
      "execution_count": 26,
      "outputs": [
        {
          "output_type": "stream",
          "text": [
            "/usr/local/lib/python3.6/dist-packages/ipykernel_launcher.py:28: ComplexWarning: Casting complex values to real discards the imaginary part\n"
          ],
          "name": "stderr"
        },
        {
          "output_type": "stream",
          "text": [
            "0  th cash done\n",
            "1  th cash done\n",
            "2  th cash done\n"
          ],
          "name": "stdout"
        },
        {
          "output_type": "execute_result",
          "data": {
            "text/plain": [
              "<matplotlib.image.AxesImage at 0x7f658f9f7f60>"
            ]
          },
          "metadata": {
            "tags": []
          },
          "execution_count": 26
        },
        {
          "output_type": "display_data",
          "data": {
            "image/png": "[encoded data removed]",
            "text/plain": [
              "<Figure size 432x288 with 1 Axes>"
            ]
          },
          "metadata": {
            "tags": [],
            "needs_background": "light"
          }
        }
      ]
    },
    {
      "cell_type": "code",
      "metadata": {
        "id": "uoY2bvCpqlLh",
        "colab_type": "code",
        "colab": {
          "base_uri": "https://localhost:8080/",
          "height": 246
        },
        "outputId": "10f62ba0-65de-43d8-f402-9eeb4ec17a5d"
      },
      "source": [
        "RS_mean"
      ],
      "execution_count": 20,
      "outputs": [
        {
          "output_type": "execute_result",
          "data": {
            "text/plain": [
              "array([[-1.33418500e-01, -1.90311669e-01, -3.30157202e-02, ...,\n",
              "         8.25235636e-02,  1.07190264e-01,  9.99476468e-02],\n",
              "       [ 1.26400803e-01, -1.07619985e-01, -1.99033223e-01, ...,\n",
              "        -2.29527788e-05,  3.08045854e-02,  6.76588329e-02],\n",
              "       [ 2.48983588e-01,  1.58172685e-01, -7.76239667e-02, ...,\n",
              "         3.10809228e-02,  2.01872467e-02,  2.49154854e-02],\n",
              "       ...,\n",
              "       [ 1.01145299e-01,  1.74426021e-01,  1.56279190e-01, ...,\n",
              "         4.53380622e-01,  3.42066887e-01,  1.95782799e-01],\n",
              "       [-1.20046035e-01, -1.62582828e-03,  1.15040609e-01, ...,\n",
              "         3.04131310e-01,  4.27255762e-01,  5.07745414e-01],\n",
              "       [-1.48892779e-01, -1.65391039e-01, -9.61728039e-02, ...,\n",
              "        -4.19576486e-01, -2.99211215e-01, -1.47741607e-01]])"
            ]
          },
          "metadata": {
            "tags": []
          },
          "execution_count": 20
        }
      ]
    },
    {
      "cell_type": "code",
      "metadata": {
        "id": "11c81Eu2Y_D4",
        "colab_type": "code",
        "colab": {
          "base_uri": "https://localhost:8080/",
          "height": 458
        },
        "outputId": "3be478e7-c351-4624-f3fe-3b15f99b64b5"
      },
      "source": [
        "plt.hist(RS_mean)"
      ],
      "execution_count": 25,
      "outputs": [
        {
          "output_type": "execute_result",
          "data": {
            "text/plain": [
              "(array([[  0.,   8.,  50., ...,  54.,   7.,   0.],\n",
              "        [  0.,   6.,  54., ...,  53.,   5.,   0.],\n",
              "        [  0.,   8.,  58., ...,  45.,   7.,   0.],\n",
              "        ...,\n",
              "        [  0.,  44., 121., ..., 127.,  32.,   0.],\n",
              "        [  0.,  37., 122., ..., 115.,  36.,   0.],\n",
              "        [  0.,  36., 119., ..., 113.,  32.,   0.]]),\n",
              " array([-0.99048767, -0.79143891, -0.59239014, -0.39334137, -0.1942926 ,\n",
              "         0.00475616,  0.20380493,  0.4028537 ,  0.60190247,  0.80095123,\n",
              "         1.        ]),\n",
              " <a list of 1080 Lists of Patches objects>)"
            ]
          },
          "metadata": {
            "tags": []
          },
          "execution_count": 25
        },
        {
          "output_type": "display_data",
          "data": {
            "image/png": "[encoded data removed]",
            "text/plain": [
              "<Figure size 432x288 with 1 Axes>"
            ]
          },
          "metadata": {
            "tags": [],
            "needs_background": "light"
          }
        }
      ]
    },
    {
      "cell_type": "code",
      "metadata": {
        "id": "B3PyRcKMZNhi",
        "colab_type": "code",
        "colab": {
          "base_uri": "https://localhost:8080/",
          "height": 34
        },
        "outputId": "c9599bb4-d74a-4027-efb2-1733f1ec1826"
      },
      "source": [
        "h_RS(0,0,0.1231,0.123142, 0.5)"
      ],
      "execution_count": null,
      "outputs": [
        {
          "output_type": "execute_result",
          "data": {
            "text/plain": [
              "(-2759.493134236145-524.8514672028622j)"
            ]
          },
          "metadata": {
            "tags": []
          },
          "execution_count": 42
        }
      ]
    },
    {
      "cell_type": "code",
      "metadata": {
        "id": "fdR7_0gs3yYj",
        "colab_type": "code",
        "colab": {}
      },
      "source": [
        "# RS methods calculation\n",
        "'''\n",
        "RS_result = np.zeros((M, M))\n",
        "for x1 in range(M):\n",
        "    for y1 in range(M):\n",
        "        if mesh[x1, y1] == 0:\n",
        "            pass\n",
        "        else:\n",
        "            RS_sum = np.zeros((M, M))\n",
        "            x = ((x1 - M) / 2) * pp\n",
        "            y = ((y1 - M) / 2) * pp\n",
        "            for i in range(M):\n",
        "                for j in range(M):\n",
        "                    x2 = ((i - M) / 2 ) * pp\n",
        "                    y2 = ((j - M) / 2 ) * pp\n",
        "                    RS_sum[i, j] = mesh[x1, y1] * h_RS(x, y, x2, y2, z1)\n",
        "            RS_result = RS_result + RS_sum\n",
        "            print(x1, y1, \"cell ready\")\n",
        " \n",
        "plt.imshow(np.abs(RS_result) / np.max(RS_result), cmap='gray')\n",
        "plt.title('RS propagation')\n",
        "'''\n"
      ],
      "execution_count": null,
      "outputs": []
    },
    {
      "cell_type": "code",
      "metadata": {
        "id": "Za2_jHpg8n1K",
        "colab_type": "code",
        "colab": {
          "base_uri": "https://localhost:8080/",
          "height": 72
        },
        "outputId": "f17ce15b-4e08-4443-da97-15b767785719"
      },
      "source": [
        "kernel = np.zeros((M, M))\n",
        "for i in range(M):\n",
        "    for j in range(M):\n",
        "        x = ((i-M) / 2 ) * pp\n",
        "        y = ((j-M) / 2 ) * pp\n",
        "        kernel[i, j] = h_RS(0, 0, x, y, 0.5)"
      ],
      "execution_count": null,
      "outputs": [
        {
          "output_type": "stream",
          "text": [
            "/usr/local/lib/python3.6/dist-packages/ipykernel_launcher.py:6: ComplexWarning: Casting complex values to real discards the imaginary part\n",
            "  \n"
          ],
          "name": "stderr"
        }
      ]
    },
    {
      "cell_type": "code",
      "metadata": {
        "id": "mXOzh0DID1uC",
        "colab_type": "code",
        "colab": {
          "base_uri": "https://localhost:8080/",
          "height": 286
        },
        "outputId": "2678cf0a-c1f7-4fe5-854f-6d8898edc5b0"
      },
      "source": [
        "plt.imshow(kernel)"
      ],
      "execution_count": null,
      "outputs": [
        {
          "output_type": "execute_result",
          "data": {
            "text/plain": [
              "<matplotlib.image.AxesImage at 0x7f03680bfcc0>"
            ]
          },
          "metadata": {
            "tags": []
          },
          "execution_count": 8
        },
        {
          "output_type": "display_data",
          "data": {
            "image/png": "[encoded data removed]",
            "text/plain": [
              "<Figure size 432x288 with 1 Axes>"
            ]
          },
          "metadata": {
            "tags": [],
            "needs_background": "light"
          }
        }
      ]
    },
    {
      "cell_type": "markdown",
      "metadata": {
        "id": "L_fKJpm0s-7Q",
        "colab_type": "text"
      },
      "source": [
        "# Reconstruction image with ASM\n",
        "\n",
        "angular spectrum methods를 사용하여 이미지를 다시 복원하는 과정"
      ]
    },
    {
      "cell_type": "code",
      "metadata": {
        "id": "l7mRo8DN9Qsa",
        "colab_type": "code",
        "colab": {}
      },
      "source": [
        "# Reconst image with ASM\n",
        "res = height / 2\n",
        "def asm_kernel(f):\n",
        "    kernal = np.zeros((height // 2, height // 2))\n",
        "    asm = -2j * np.pi * f\n",
        "    for i in np.arange(height // 2):\n",
        "        for j in np.arange(height // 2):\n",
        "            c = (-pp * res / 2 + pp / 2) + i * pp\n",
        "            r = (-pp * res / 2 + pp / 2) + j * pp\n",
        "            squrt = wvl ** -2 - ((r / pp - 0.5) / pp / res) ** 2 - ((c / pp - 0.5) / pp / res) ** 2\n",
        "            kernal[[j], [i]] = np.exp(asm * np.sqrt(squrt))\n",
        "    return kernal"
      ],
      "execution_count": null,
      "outputs": []
    },
    {
      "cell_type": "code",
      "metadata": {
        "id": "-gOvxSgWl4RU",
        "colab_type": "code",
        "colab": {}
      },
      "source": [
        ""
      ],
      "execution_count": null,
      "outputs": []
    }
  ]
}